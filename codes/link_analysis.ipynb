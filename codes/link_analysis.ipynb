{
 "cells": [
  {
   "cell_type": "markdown",
   "metadata": {},
   "source": [
    "## Shahnameh Characters"
   ]
  },
  {
   "cell_type": "code",
   "execution_count": 1,
   "metadata": {},
   "outputs": [],
   "source": [
    "import pandas as pd\n",
    "import numpy as np\n",
    "import io\n",
    "\n",
    "import hazm\n",
    "\n",
    "normalizer = hazm.Normalizer(token_based=True)\n",
    "\n",
    "poems = list(normalizer.normalize(line.strip()) for line in\n",
    "             io.open('../datasets/shahnameh.txt', mode=\"r\", encoding=\"utf-8\").readlines())\n",
    "\n",
    "poems = np.array(poems)\n",
    "poems = np.apply_along_axis(' / '.join, 1, poems.reshape(-1, 2))\n",
    "\n",
    "chars = set(normalizer.normalize(regex) for regex in \n",
    "             pd.read_csv('../datasets/shahnameh_characters.csv')['regex'])"
   ]
  },
  {
   "cell_type": "code",
   "execution_count": 2,
   "metadata": {},
   "outputs": [],
   "source": [
    "characters = np.array(list(chars))"
   ]
  },
  {
   "cell_type": "code",
   "execution_count": 3,
   "metadata": {},
   "outputs": [
    {
     "data": {
      "application/vnd.jupyter.widget-view+json": {
       "model_id": "05f9b1c98d3a4344aac44e1b645f6814",
       "version_major": 2,
       "version_minor": 0
      },
      "text/plain": [
       "  0%|          | 0/530 [00:00<?, ?it/s]"
      ]
     },
     "metadata": {},
     "output_type": "display_data"
    }
   ],
   "source": [
    "from tqdm.notebook import tqdm\n",
    "import re\n",
    "\n",
    "character_placement = np.zeros((len(characters), len(poems)), dtype=bool)\n",
    "character_regex = [re.compile(character) for character in characters]\n",
    "\n",
    "for row, rgx in enumerate(tqdm(character_regex)):\n",
    "    for col, poem in enumerate(poems):\n",
    "        character_placement[row, col] = bool(rgx.search(poem))"
   ]
  },
  {
   "cell_type": "code",
   "execution_count": 4,
   "metadata": {},
   "outputs": [],
   "source": [
    "threshold = 1\n",
    "\n",
    "counts = np.sum(character_placement, axis=1)\n",
    "\n",
    "characters, character_placement = \\\n",
    "    characters[counts >= 1], character_placement[counts >= 1]\n",
    "\n",
    "id2characters = dict(enumerate(characters))"
   ]
  },
  {
   "cell_type": "code",
   "execution_count": 5,
   "metadata": {},
   "outputs": [],
   "source": [
    "window_size = 5"
   ]
  },
  {
   "cell_type": "code",
   "execution_count": 6,
   "metadata": {},
   "outputs": [],
   "source": [
    "padding = window_size - character_placement.shape[1] % window_size\n",
    "\n",
    "char_sh = character_placement.shape[0]\n",
    "poem_sh = character_placement.shape[1]\n",
    "\n",
    "character_pp_1 = np.pad(\n",
    "    character_placement, pad_width=((0, 0), (0, padding))).reshape(char_sh, -1, window_size)\n",
    "\n",
    "character_pp_1 = np.any(character_pp_1, axis=2).astype(int)"
   ]
  },
  {
   "cell_type": "code",
   "execution_count": 7,
   "metadata": {},
   "outputs": [],
   "source": [
    "# character_pp_1.shape"
   ]
  },
  {
   "cell_type": "code",
   "execution_count": 8,
   "metadata": {},
   "outputs": [],
   "source": [
    "shift = window_size // 2"
   ]
  },
  {
   "cell_type": "code",
   "execution_count": 9,
   "metadata": {},
   "outputs": [],
   "source": [
    "padding = window_size - (character_placement.shape[1] + shift) % window_size\n",
    "\n",
    "char_sh = character_placement.shape[0]\n",
    "poem_sh = character_placement.shape[1] + shift\n",
    "\n",
    "character_pp_2 = np.pad(\n",
    "    character_placement, pad_width=((0, 0), (shift, padding))).reshape(char_sh, -1, window_size)\n",
    "\n",
    "character_pp_2 = np.any(character_pp_2, axis=2).astype(int)"
   ]
  },
  {
   "cell_type": "code",
   "execution_count": 10,
   "metadata": {},
   "outputs": [],
   "source": [
    "# character_pp_2.shape"
   ]
  },
  {
   "cell_type": "code",
   "execution_count": 11,
   "metadata": {},
   "outputs": [],
   "source": [
    "adjacency = (\n",
    "    np.dot(character_pp_1, character_pp_1.T) + np.dot(character_pp_2, character_pp_2.T)\n",
    ").astype(bool).astype(int)"
   ]
  },
  {
   "cell_type": "markdown",
   "metadata": {},
   "source": [
    "<hr>"
   ]
  },
  {
   "cell_type": "code",
   "execution_count": 12,
   "metadata": {},
   "outputs": [],
   "source": [
    "import networkx as nx\n",
    "\n",
    "graph = nx.from_numpy_matrix(adjacency)\n",
    "\n",
    "pagerank = nx.pagerank(graph, alpha=0.9)\n",
    "\n",
    "pranks = pd.DataFrame([\n",
    "    {'pagerank-name': id2characters[k].split('|')[0], 'prob': v} for k, v in pagerank.items()\n",
    "])\n",
    "\n",
    "hubs, authorities = nx.hits(graph, max_iter=1e3)\n",
    "\n",
    "hranks = pd.DataFrame([\n",
    "    {'hits-name': id2characters[kh].split('|')[0], 'hubs-prob': vh, 'authorities-prob': va} \n",
    "    for (kh, vh), (ka, va) in zip(hubs.items(), authorities.items())\n",
    "])"
   ]
  },
  {
   "cell_type": "code",
   "execution_count": 13,
   "metadata": {},
   "outputs": [
    {
     "data": {
      "text/html": [
       "<style>\n",
       ".output {\n",
       "    flex-direction: row;\n",
       "}\n",
       "</style>"
      ],
      "text/plain": [
       "<IPython.core.display.HTML object>"
      ]
     },
     "execution_count": 13,
     "metadata": {},
     "output_type": "execute_result"
    }
   ],
   "source": [
    "import pandas as pd\n",
    "import numpy as np\n",
    "from IPython.display import display, HTML\n",
    "\n",
    "CSS = \"\"\"\n",
    ".output {\n",
    "    flex-direction: row;\n",
    "}\n",
    "\"\"\"\n",
    "\n",
    "HTML('<style>{}</style>'.format(CSS))"
   ]
  },
  {
   "cell_type": "code",
   "execution_count": 14,
   "metadata": {},
   "outputs": [
    {
     "data": {
      "text/html": [
       "<div>\n",
       "<style scoped>\n",
       "    .dataframe tbody tr th:only-of-type {\n",
       "        vertical-align: middle;\n",
       "    }\n",
       "\n",
       "    .dataframe tbody tr th {\n",
       "        vertical-align: top;\n",
       "    }\n",
       "\n",
       "    .dataframe thead th {\n",
       "        text-align: right;\n",
       "    }\n",
       "</style>\n",
       "<table border=\"1\" class=\"dataframe\">\n",
       "  <thead>\n",
       "    <tr style=\"text-align: right;\">\n",
       "      <th></th>\n",
       "      <th>pagerank-name</th>\n",
       "      <th>prob</th>\n",
       "    </tr>\n",
       "  </thead>\n",
       "  <tbody>\n",
       "    <tr>\n",
       "      <th>36</th>\n",
       "      <td>گشتاسپ</td>\n",
       "      <td>0.018381</td>\n",
       "    </tr>\n",
       "    <tr>\n",
       "      <th>215</th>\n",
       "      <td>جمشید</td>\n",
       "      <td>0.016130</td>\n",
       "    </tr>\n",
       "    <tr>\n",
       "      <th>255</th>\n",
       "      <td>بید</td>\n",
       "      <td>0.012487</td>\n",
       "    </tr>\n",
       "    <tr>\n",
       "      <th>148</th>\n",
       "      <td>شهریار</td>\n",
       "      <td>0.012338</td>\n",
       "    </tr>\n",
       "    <tr>\n",
       "      <th>138</th>\n",
       "      <td>سرو</td>\n",
       "      <td>0.012223</td>\n",
       "    </tr>\n",
       "    <tr>\n",
       "      <th>135</th>\n",
       "      <td>پیروز</td>\n",
       "      <td>0.011456</td>\n",
       "    </tr>\n",
       "    <tr>\n",
       "      <th>370</th>\n",
       "      <td>بهمن</td>\n",
       "      <td>0.011388</td>\n",
       "    </tr>\n",
       "    <tr>\n",
       "      <th>359</th>\n",
       "      <td>خسرو</td>\n",
       "      <td>0.011137</td>\n",
       "    </tr>\n",
       "    <tr>\n",
       "      <th>152</th>\n",
       "      <td>کیخسرو</td>\n",
       "      <td>0.011137</td>\n",
       "    </tr>\n",
       "    <tr>\n",
       "      <th>371</th>\n",
       "      <td>فریدون</td>\n",
       "      <td>0.010925</td>\n",
       "    </tr>\n",
       "  </tbody>\n",
       "</table>\n",
       "</div>"
      ],
      "text/plain": [
       "    pagerank-name      prob\n",
       "36         گشتاسپ  0.018381\n",
       "215         جمشید  0.016130\n",
       "255           بید  0.012487\n",
       "148        شهریار  0.012338\n",
       "138          سرو   0.012223\n",
       "135         پیروز  0.011456\n",
       "370          بهمن  0.011388\n",
       "359          خسرو  0.011137\n",
       "152        کیخسرو  0.011137\n",
       "371        فریدون  0.010925"
      ]
     },
     "metadata": {},
     "output_type": "display_data"
    },
    {
     "data": {
      "text/html": [
       "<div>\n",
       "<style scoped>\n",
       "    .dataframe tbody tr th:only-of-type {\n",
       "        vertical-align: middle;\n",
       "    }\n",
       "\n",
       "    .dataframe tbody tr th {\n",
       "        vertical-align: top;\n",
       "    }\n",
       "\n",
       "    .dataframe thead th {\n",
       "        text-align: right;\n",
       "    }\n",
       "</style>\n",
       "<table border=\"1\" class=\"dataframe\">\n",
       "  <thead>\n",
       "    <tr style=\"text-align: right;\">\n",
       "      <th></th>\n",
       "      <th>hits-name</th>\n",
       "      <th>hubs-prob</th>\n",
       "      <th>authorities-prob</th>\n",
       "    </tr>\n",
       "  </thead>\n",
       "  <tbody>\n",
       "    <tr>\n",
       "      <th>36</th>\n",
       "      <td>گشتاسپ</td>\n",
       "      <td>0.009940</td>\n",
       "      <td>0.009940</td>\n",
       "    </tr>\n",
       "    <tr>\n",
       "      <th>215</th>\n",
       "      <td>جمشید</td>\n",
       "      <td>0.009770</td>\n",
       "      <td>0.009770</td>\n",
       "    </tr>\n",
       "    <tr>\n",
       "      <th>138</th>\n",
       "      <td>سرو</td>\n",
       "      <td>0.009135</td>\n",
       "      <td>0.009135</td>\n",
       "    </tr>\n",
       "    <tr>\n",
       "      <th>255</th>\n",
       "      <td>بید</td>\n",
       "      <td>0.009044</td>\n",
       "      <td>0.009044</td>\n",
       "    </tr>\n",
       "    <tr>\n",
       "      <th>148</th>\n",
       "      <td>شهریار</td>\n",
       "      <td>0.008889</td>\n",
       "      <td>0.008889</td>\n",
       "    </tr>\n",
       "    <tr>\n",
       "      <th>359</th>\n",
       "      <td>خسرو</td>\n",
       "      <td>0.008834</td>\n",
       "      <td>0.008834</td>\n",
       "    </tr>\n",
       "    <tr>\n",
       "      <th>152</th>\n",
       "      <td>کیخسرو</td>\n",
       "      <td>0.008834</td>\n",
       "      <td>0.008834</td>\n",
       "    </tr>\n",
       "    <tr>\n",
       "      <th>370</th>\n",
       "      <td>بهمن</td>\n",
       "      <td>0.008812</td>\n",
       "      <td>0.008812</td>\n",
       "    </tr>\n",
       "    <tr>\n",
       "      <th>135</th>\n",
       "      <td>پیروز</td>\n",
       "      <td>0.008716</td>\n",
       "      <td>0.008716</td>\n",
       "    </tr>\n",
       "    <tr>\n",
       "      <th>72</th>\n",
       "      <td>تور</td>\n",
       "      <td>0.008609</td>\n",
       "      <td>0.008609</td>\n",
       "    </tr>\n",
       "  </tbody>\n",
       "</table>\n",
       "</div>"
      ],
      "text/plain": [
       "    hits-name  hubs-prob  authorities-prob\n",
       "36     گشتاسپ   0.009940          0.009940\n",
       "215     جمشید   0.009770          0.009770\n",
       "138      سرو    0.009135          0.009135\n",
       "255       بید   0.009044          0.009044\n",
       "148    شهریار   0.008889          0.008889\n",
       "359      خسرو   0.008834          0.008834\n",
       "152    کیخسرو   0.008834          0.008834\n",
       "370      بهمن   0.008812          0.008812\n",
       "135     پیروز   0.008716          0.008716\n",
       "72        تور   0.008609          0.008609"
      ]
     },
     "metadata": {},
     "output_type": "display_data"
    }
   ],
   "source": [
    "display(pranks.sort_values('prob', ascending=False).head(10))\n",
    "display(hranks.sort_values('hubs-prob', ascending=False).head(10))"
   ]
  },
  {
   "cell_type": "markdown",
   "metadata": {},
   "source": [
    "## Shahnameh Cities"
   ]
  },
  {
   "cell_type": "code",
   "execution_count": 15,
   "metadata": {},
   "outputs": [],
   "source": [
    "city = set(normalizer.normalize(regex) for regex in \n",
    "             pd.read_csv('../datasets/shahnameh_cities.csv')['city'])\n",
    "\n",
    "cities = np.array(list(city))"
   ]
  },
  {
   "cell_type": "code",
   "execution_count": 16,
   "metadata": {},
   "outputs": [
    {
     "data": {
      "application/vnd.jupyter.widget-view+json": {
       "model_id": "e25c50c0864c41b9a4de5ef104436fed",
       "version_major": 2,
       "version_minor": 0
      },
      "text/plain": [
       "  0%|          | 0/100 [00:00<?, ?it/s]"
      ]
     },
     "metadata": {},
     "output_type": "display_data"
    }
   ],
   "source": [
    "city_placement = np.zeros((len(cities), len(poems)), dtype=bool)\n",
    "city_regex = [re.compile(cit) for cit in cities]\n",
    "\n",
    "for row, rgx in enumerate(tqdm(city_regex)):\n",
    "    for col, poem in enumerate(poems):\n",
    "        city_placement[row, col] = bool(rgx.search(poem))"
   ]
  },
  {
   "cell_type": "code",
   "execution_count": 17,
   "metadata": {},
   "outputs": [],
   "source": [
    "threshold = 1\n",
    "\n",
    "counts = np.sum(city_placement, axis=1)\n",
    "\n",
    "cities, city_placement = \\\n",
    "    cities[counts >= 1], city_placement[counts >= 1]\n",
    "\n",
    "id2cities = dict(enumerate(cities))"
   ]
  },
  {
   "cell_type": "code",
   "execution_count": 18,
   "metadata": {},
   "outputs": [],
   "source": [
    "window_size = 5"
   ]
  },
  {
   "cell_type": "code",
   "execution_count": 19,
   "metadata": {},
   "outputs": [],
   "source": [
    "padding = window_size - city_placement.shape[1] % window_size\n",
    "\n",
    "city_sh = city_placement.shape[0]\n",
    "poem_sh = city_placement.shape[1]\n",
    "\n",
    "city_pp_1 = np.pad(\n",
    "    city_placement, pad_width=((0, 0), (0, padding))).reshape(city_sh, -1, window_size)\n",
    "\n",
    "city_pp_1 = np.any(city_pp_1, axis=2).astype(int)"
   ]
  },
  {
   "cell_type": "code",
   "execution_count": 21,
   "metadata": {},
   "outputs": [],
   "source": [
    "# city_pp_1.shape"
   ]
  },
  {
   "cell_type": "code",
   "execution_count": 22,
   "metadata": {},
   "outputs": [],
   "source": [
    "shift = window_size // 2"
   ]
  },
  {
   "cell_type": "code",
   "execution_count": 23,
   "metadata": {},
   "outputs": [],
   "source": [
    "padding = window_size - (city_placement.shape[1] + shift) % window_size\n",
    "\n",
    "city_sh = city_placement.shape[0]\n",
    "poem_sh = city_placement.shape[1] + shift\n",
    "\n",
    "city_pp_2 = np.pad(\n",
    "    city_placement, pad_width=((0, 0), (shift, padding))).reshape(city_sh, -1, window_size)\n",
    "\n",
    "city_pp_2 = np.any(city_pp_2, axis=2).astype(int)"
   ]
  },
  {
   "cell_type": "code",
   "execution_count": 25,
   "metadata": {},
   "outputs": [],
   "source": [
    "# city_pp_2.shape"
   ]
  },
  {
   "cell_type": "code",
   "execution_count": 26,
   "metadata": {},
   "outputs": [],
   "source": [
    "adjacency = (\n",
    "    np.dot(city_pp_1, city_pp_1.T) + np.dot(city_pp_2, city_pp_2.T)\n",
    ").astype(bool).astype(int)"
   ]
  },
  {
   "cell_type": "markdown",
   "metadata": {},
   "source": [
    "<hr>"
   ]
  },
  {
   "cell_type": "code",
   "execution_count": 27,
   "metadata": {},
   "outputs": [],
   "source": [
    "graph = nx.from_numpy_matrix(adjacency)\n",
    "\n",
    "pagerank = nx.pagerank(graph, alpha=0.9)\n",
    "\n",
    "pranks = pd.DataFrame([\n",
    "    {'pagerank-name': id2cities[k].split('|')[0], 'prob': v} for k, v in pagerank.items()\n",
    "])\n",
    "\n",
    "hubs, authorities = nx.hits(graph, max_iter=1e3)\n",
    "\n",
    "hranks = pd.DataFrame([\n",
    "    {'hits-name': id2cities[kh].split('|')[0], 'hubs-prob': vh, 'authorities-prob': va} \n",
    "    for (kh, vh), (ka, va) in zip(hubs.items(), authorities.items())\n",
    "])"
   ]
  },
  {
   "cell_type": "code",
   "execution_count": 28,
   "metadata": {},
   "outputs": [
    {
     "data": {
      "text/html": [
       "<style>\n",
       ".output {\n",
       "    flex-direction: row;\n",
       "}\n",
       "</style>"
      ],
      "text/plain": [
       "<IPython.core.display.HTML object>"
      ]
     },
     "execution_count": 28,
     "metadata": {},
     "output_type": "execute_result"
    }
   ],
   "source": [
    "CSS = \"\"\"\n",
    ".output {\n",
    "    flex-direction: row;\n",
    "}\n",
    "\"\"\"\n",
    "\n",
    "HTML('<style>{}</style>'.format(CSS))"
   ]
  },
  {
   "cell_type": "code",
   "execution_count": 29,
   "metadata": {},
   "outputs": [
    {
     "data": {
      "text/html": [
       "<div>\n",
       "<style scoped>\n",
       "    .dataframe tbody tr th:only-of-type {\n",
       "        vertical-align: middle;\n",
       "    }\n",
       "\n",
       "    .dataframe tbody tr th {\n",
       "        vertical-align: top;\n",
       "    }\n",
       "\n",
       "    .dataframe thead th {\n",
       "        text-align: right;\n",
       "    }\n",
       "</style>\n",
       "<table border=\"1\" class=\"dataframe\">\n",
       "  <thead>\n",
       "    <tr style=\"text-align: right;\">\n",
       "      <th></th>\n",
       "      <th>pagerank-name</th>\n",
       "      <th>prob</th>\n",
       "    </tr>\n",
       "  </thead>\n",
       "  <tbody>\n",
       "    <tr>\n",
       "      <th>3</th>\n",
       "      <td>ری</td>\n",
       "      <td>0.061869</td>\n",
       "    </tr>\n",
       "    <tr>\n",
       "      <th>19</th>\n",
       "      <td>بست</td>\n",
       "      <td>0.041150</td>\n",
       "    </tr>\n",
       "    <tr>\n",
       "      <th>25</th>\n",
       "      <td>شیر</td>\n",
       "      <td>0.039684</td>\n",
       "    </tr>\n",
       "    <tr>\n",
       "      <th>38</th>\n",
       "      <td>مای</td>\n",
       "      <td>0.036031</td>\n",
       "    </tr>\n",
       "    <tr>\n",
       "      <th>5</th>\n",
       "      <td>هند</td>\n",
       "      <td>0.032152</td>\n",
       "    </tr>\n",
       "    <tr>\n",
       "      <th>46</th>\n",
       "      <td>روم</td>\n",
       "      <td>0.031713</td>\n",
       "    </tr>\n",
       "    <tr>\n",
       "      <th>53</th>\n",
       "      <td>چین</td>\n",
       "      <td>0.031653</td>\n",
       "    </tr>\n",
       "    <tr>\n",
       "      <th>61</th>\n",
       "      <td>ختن</td>\n",
       "      <td>0.030392</td>\n",
       "    </tr>\n",
       "    <tr>\n",
       "      <th>35</th>\n",
       "      <td>پارس</td>\n",
       "      <td>0.028373</td>\n",
       "    </tr>\n",
       "    <tr>\n",
       "      <th>4</th>\n",
       "      <td>مرو</td>\n",
       "      <td>0.024689</td>\n",
       "    </tr>\n",
       "  </tbody>\n",
       "</table>\n",
       "</div>"
      ],
      "text/plain": [
       "   pagerank-name      prob\n",
       "3             ری  0.061869\n",
       "19           بست  0.041150\n",
       "25           شیر  0.039684\n",
       "38           مای  0.036031\n",
       "5            هند  0.032152\n",
       "46           روم  0.031713\n",
       "53           چین  0.031653\n",
       "61           ختن  0.030392\n",
       "35          پارس  0.028373\n",
       "4            مرو  0.024689"
      ]
     },
     "metadata": {},
     "output_type": "display_data"
    },
    {
     "data": {
      "text/html": [
       "<div>\n",
       "<style scoped>\n",
       "    .dataframe tbody tr th:only-of-type {\n",
       "        vertical-align: middle;\n",
       "    }\n",
       "\n",
       "    .dataframe tbody tr th {\n",
       "        vertical-align: top;\n",
       "    }\n",
       "\n",
       "    .dataframe thead th {\n",
       "        text-align: right;\n",
       "    }\n",
       "</style>\n",
       "<table border=\"1\" class=\"dataframe\">\n",
       "  <thead>\n",
       "    <tr style=\"text-align: right;\">\n",
       "      <th></th>\n",
       "      <th>hits-name</th>\n",
       "      <th>hubs-prob</th>\n",
       "      <th>authorities-prob</th>\n",
       "    </tr>\n",
       "  </thead>\n",
       "  <tbody>\n",
       "    <tr>\n",
       "      <th>3</th>\n",
       "      <td>ری</td>\n",
       "      <td>0.039299</td>\n",
       "      <td>0.039299</td>\n",
       "    </tr>\n",
       "    <tr>\n",
       "      <th>25</th>\n",
       "      <td>شیر</td>\n",
       "      <td>0.035416</td>\n",
       "      <td>0.035416</td>\n",
       "    </tr>\n",
       "    <tr>\n",
       "      <th>19</th>\n",
       "      <td>بست</td>\n",
       "      <td>0.035069</td>\n",
       "      <td>0.035069</td>\n",
       "    </tr>\n",
       "    <tr>\n",
       "      <th>38</th>\n",
       "      <td>مای</td>\n",
       "      <td>0.034109</td>\n",
       "      <td>0.034109</td>\n",
       "    </tr>\n",
       "    <tr>\n",
       "      <th>53</th>\n",
       "      <td>چین</td>\n",
       "      <td>0.032010</td>\n",
       "      <td>0.032010</td>\n",
       "    </tr>\n",
       "    <tr>\n",
       "      <th>46</th>\n",
       "      <td>روم</td>\n",
       "      <td>0.031956</td>\n",
       "      <td>0.031956</td>\n",
       "    </tr>\n",
       "    <tr>\n",
       "      <th>61</th>\n",
       "      <td>ختن</td>\n",
       "      <td>0.030943</td>\n",
       "      <td>0.030943</td>\n",
       "    </tr>\n",
       "    <tr>\n",
       "      <th>5</th>\n",
       "      <td>هند</td>\n",
       "      <td>0.030837</td>\n",
       "      <td>0.030837</td>\n",
       "    </tr>\n",
       "    <tr>\n",
       "      <th>35</th>\n",
       "      <td>پارس</td>\n",
       "      <td>0.028160</td>\n",
       "      <td>0.028160</td>\n",
       "    </tr>\n",
       "    <tr>\n",
       "      <th>4</th>\n",
       "      <td>مرو</td>\n",
       "      <td>0.027064</td>\n",
       "      <td>0.027064</td>\n",
       "    </tr>\n",
       "  </tbody>\n",
       "</table>\n",
       "</div>"
      ],
      "text/plain": [
       "   hits-name  hubs-prob  authorities-prob\n",
       "3         ری   0.039299          0.039299\n",
       "25       شیر   0.035416          0.035416\n",
       "19       بست   0.035069          0.035069\n",
       "38       مای   0.034109          0.034109\n",
       "53       چین   0.032010          0.032010\n",
       "46       روم   0.031956          0.031956\n",
       "61       ختن   0.030943          0.030943\n",
       "5        هند   0.030837          0.030837\n",
       "35      پارس   0.028160          0.028160\n",
       "4        مرو   0.027064          0.027064"
      ]
     },
     "metadata": {},
     "output_type": "display_data"
    }
   ],
   "source": [
    "display(pranks.sort_values('prob', ascending=False).head(10))\n",
    "display(hranks.sort_values('hubs-prob', ascending=False).head(10))"
   ]
  },
  {
   "cell_type": "code",
   "execution_count": null,
   "metadata": {},
   "outputs": [],
   "source": []
  }
 ],
 "metadata": {
  "kernelspec": {
   "display_name": "dp",
   "language": "python",
   "name": "dp"
  },
  "language_info": {
   "codemirror_mode": {
    "name": "ipython",
    "version": 3
   },
   "file_extension": ".py",
   "mimetype": "text/x-python",
   "name": "python",
   "nbconvert_exporter": "python",
   "pygments_lexer": "ipython3",
   "version": "3.8.10"
  }
 },
 "nbformat": 4,
 "nbformat_minor": 4
}
