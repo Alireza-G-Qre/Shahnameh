{
 "cells": [
  {
   "cell_type": "markdown",
   "metadata": {},
   "source": [
    "## Shahnameh Characters"
   ]
  },
  {
   "cell_type": "code",
   "execution_count": 1,
   "metadata": {},
   "outputs": [],
   "source": [
    "shahnameh_characters = 'https://fa.wikipedia.org/wiki/%D9%81%D9%87%D8%B1%D8%B3%D8%AA_%D8%B4%D8%AE%D8%B5%DB%8C%D8%AA%E2%80%8C%D9%87%D8%A7%DB%8C_%D8%B4%D8%A7%D9%87%D9%86%D8%A7%D9%85%D9%87'"
   ]
  },
  {
   "cell_type": "code",
   "execution_count": 2,
   "metadata": {},
   "outputs": [],
   "source": [
    "import requests\n",
    "import bs4\n",
    "\n",
    "context = requests.get(shahnameh_characters).text\n",
    "soup = bs4.BeautifulSoup(context, 'lxml') "
   ]
  },
  {
   "cell_type": "code",
   "execution_count": 3,
   "metadata": {},
   "outputs": [],
   "source": [
    "characters_urls = {\n",
    "    token.get_text(): 'https://fa.wikipedia.org' + token['href'] for token in \n",
    "    soup.select('#mw-content-text > div.mw-parser-output > ul > li > a')\n",
    "}"
   ]
  },
  {
   "cell_type": "code",
   "execution_count": 4,
   "metadata": {},
   "outputs": [],
   "source": [
    "characters_information = []\n",
    "\n",
    "label_selector = '#mw-content-text > div.mw-parser-output > table > tbody > tr > th.infobox-label'\n",
    "data_selector = '#mw-content-text > div.mw-parser-output > table > tbody > tr > td.infobox-data'\n",
    "\n",
    "for name, link in characters_urls.items():\n",
    "    \n",
    "    response = requests.get(link)\n",
    "    if response.status_code != 200:\n",
    "        characters_information.append({'name': name})\n",
    "        continue\n",
    "    \n",
    "    sub_context = response.text\n",
    "    sub_soup = bs4.BeautifulSoup(sub_context, 'lxml')\n",
    "    \n",
    "    labels, datas = [lab.get_text() for lab in sub_soup.select(label_selector)], \\\n",
    "                [dat.get_text() for dat in sub_soup.select(data_selector)]\n",
    "    \n",
    "    if not (labels and datas):\n",
    "        characters_information.append({'name': name})\n",
    "        continue\n",
    "    \n",
    "    characters_information.append({'name': name, 'info': dict(zip(labels, datas))})"
   ]
  },
  {
   "cell_type": "markdown",
   "metadata": {},
   "source": [
    "## Shahnameh Cities"
   ]
  },
  {
   "cell_type": "code",
   "execution_count": 5,
   "metadata": {},
   "outputs": [],
   "source": [
    "shahnameh_cities = 'https://fa.wikipedia.org/wiki/%D9%81%D9%87%D8%B1%D8%B3%D8%AA_%D8%AC%D8%A7%DB%8C%E2%80%8C%D9%87%D8%A7_%D8%AF%D8%B1_%D8%B4%D8%A7%D9%87%D9%86%D8%A7%D9%85%D9%87'"
   ]
  },
  {
   "cell_type": "code",
   "execution_count": 6,
   "metadata": {},
   "outputs": [],
   "source": [
    "import requests\n",
    "import bs4\n",
    "\n",
    "context = requests.get(shahnameh_cities).text\n",
    "soup = bs4.BeautifulSoup(context, 'lxml') "
   ]
  },
  {
   "cell_type": "code",
   "execution_count": 13,
   "metadata": {},
   "outputs": [],
   "source": [
    "cities = [\n",
    "    token.get_text() for token in soup.select('#mw-content-text > div.mw-parser-output > ul > li > a')\n",
    "]\n",
    "\n",
    "cities = cities[:-3]"
   ]
  },
  {
   "cell_type": "markdown",
   "metadata": {},
   "source": [
    "## Save Dataframe"
   ]
  },
  {
   "cell_type": "code",
   "execution_count": 44,
   "metadata": {},
   "outputs": [],
   "source": [
    "fields = [\n",
    "    'نام',\n",
    "    'لقب',\n",
    "    'نام\\u200cهای دیگر'\n",
    "]\n",
    "\n",
    "for row in characters_information:\n",
    "    \n",
    "    names = [row['name'].split('(')[0]]\n",
    "\n",
    "    if 'info' in row:        \n",
    "        for fi in fields:\n",
    "            names.extend([x.strip() for x in row['info'].get(fi, '').split('،') if x])\n",
    "\n",
    "    row.update({'regex': '|'.join(names)})"
   ]
  },
  {
   "cell_type": "code",
   "execution_count": 46,
   "metadata": {},
   "outputs": [],
   "source": [
    "import pandas as pd\n",
    "\n",
    "df = pd.DataFrame([\n",
    "    {'name':row['name'], 'regex':row['regex']} for row in characters_information])"
   ]
  },
  {
   "cell_type": "code",
   "execution_count": 49,
   "metadata": {},
   "outputs": [],
   "source": [
    "df.to_csv('../datasets/shahnameh_characters.csv', index=False)"
   ]
  },
  {
   "cell_type": "code",
   "execution_count": 51,
   "metadata": {},
   "outputs": [],
   "source": [
    "pd.DataFrame([{'city': x} for x in cities])\\\n",
    "    .to_csv('../datasets/shahnameh_cities.csv', index=False)"
   ]
  }
 ],
 "metadata": {
  "kernelspec": {
   "display_name": "dp",
   "language": "python",
   "name": "dp"
  },
  "language_info": {
   "codemirror_mode": {
    "name": "ipython",
    "version": 3
   },
   "file_extension": ".py",
   "mimetype": "text/x-python",
   "name": "python",
   "nbconvert_exporter": "python",
   "pygments_lexer": "ipython3",
   "version": "3.8.10"
  }
 },
 "nbformat": 4,
 "nbformat_minor": 4
}
