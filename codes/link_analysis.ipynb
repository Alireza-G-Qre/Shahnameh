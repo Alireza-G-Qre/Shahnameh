{
 "cells": [
  {
   "cell_type": "markdown",
   "metadata": {},
   "source": [
    "## Shahnameh Characters"
   ]
  },
  {
   "cell_type": "code",
   "execution_count": 1,
   "metadata": {},
   "outputs": [],
   "source": [
    "import pandas as pd\n",
    "import numpy as np\n",
    "import io\n",
    "\n",
    "import hazm\n",
    "\n",
    "normalizer = hazm.Normalizer(token_based=True)\n",
    "\n",
    "poems = list(normalizer.normalize(line.strip()) for line in\n",
    "             io.open('../datasets/shahnameh.txt', mode=\"r\", encoding=\"utf-8\").readlines())\n",
    "\n",
    "poems = np.array(poems)\n",
    "poems = np.apply_along_axis(' / '.join, 1, poems.reshape(-1, 2))\n",
    "\n",
    "chars = set(normalizer.normalize(regex) for regex in \n",
    "             pd.read_csv('../datasets/shahnameh_characters.csv')['regex'])"
   ]
  },
  {
   "cell_type": "code",
   "execution_count": 2,
   "metadata": {},
   "outputs": [],
   "source": [
    "characters = np.array(list(chars))"
   ]
  },
  {
   "cell_type": "code",
   "execution_count": 3,
   "metadata": {},
   "outputs": [
    {
     "data": {
      "application/vnd.jupyter.widget-view+json": {
       "model_id": "25daa11eda314123bdc0e618aaa887ce",
       "version_major": 2,
       "version_minor": 0
      },
      "text/plain": [
       "  0%|          | 0/530 [00:00<?, ?it/s]"
      ]
     },
     "metadata": {},
     "output_type": "display_data"
    }
   ],
   "source": [
    "from tqdm.notebook import tqdm\n",
    "import re\n",
    "\n",
    "character_placement = np.zeros((len(characters), len(poems)), dtype=bool)\n",
    "character_regex = [re.compile(character) for character in characters]\n",
    "\n",
    "for row, rgx in enumerate(tqdm(character_regex)):\n",
    "    for col, poem in enumerate(poems):\n",
    "        character_placement[row, col] = bool(rgx.search(poem))"
   ]
  },
  {
   "cell_type": "code",
   "execution_count": 4,
   "metadata": {},
   "outputs": [],
   "source": [
    "threshold = 1\n",
    "\n",
    "counts = np.sum(character_placement, axis=1)\n",
    "\n",
    "characters, character_placement = \\\n",
    "    characters[counts >= 1], character_placement[counts >= 1]\n",
    "\n",
    "id2characters = dict(enumerate(characters))"
   ]
  },
  {
   "cell_type": "code",
   "execution_count": 5,
   "metadata": {},
   "outputs": [],
   "source": [
    "window_size = 5"
   ]
  },
  {
   "cell_type": "code",
   "execution_count": 6,
   "metadata": {},
   "outputs": [],
   "source": [
    "padding = window_size - character_placement.shape[1] % window_size\n",
    "\n",
    "char_sh = character_placement.shape[0]\n",
    "poem_sh = character_placement.shape[1]\n",
    "\n",
    "character_placement = np.pad(\n",
    "    character_placement, pad_width=((0, 0), (0, padding))).reshape(char_sh, -1, window_size)\n",
    "\n",
    "character_placement = np.any(character_placement, axis=2).astype(int)"
   ]
  },
  {
   "cell_type": "code",
   "execution_count": 7,
   "metadata": {},
   "outputs": [],
   "source": [
    "adjacency = np.dot(character_placement, character_placement.T).astype(bool).astype(int)"
   ]
  },
  {
   "cell_type": "markdown",
   "metadata": {},
   "source": [
    "<hr>"
   ]
  },
  {
   "cell_type": "code",
   "execution_count": 8,
   "metadata": {},
   "outputs": [],
   "source": [
    "import networkx as nx\n",
    "\n",
    "graph = nx.from_numpy_matrix(adjacency)\n",
    "\n",
    "pagerank = nx.pagerank(graph, alpha=0.9)\n",
    "\n",
    "pranks = pd.DataFrame([\n",
    "    {'pagerank-name': id2characters[k].split('|')[0], 'prob': v} for k, v in pagerank.items()\n",
    "])\n",
    "\n",
    "hubs, authorities = nx.hits(graph, max_iter=1e3)\n",
    "\n",
    "hranks = pd.DataFrame([\n",
    "    {'hits-name': id2characters[kh].split('|')[0], 'hubs-prob': vh, 'authorities-prob': va} \n",
    "    for (kh, vh), (ka, va) in zip(hubs.items(), authorities.items())\n",
    "])"
   ]
  },
  {
   "cell_type": "code",
   "execution_count": 9,
   "metadata": {},
   "outputs": [
    {
     "data": {
      "text/html": [
       "<style>\n",
       ".output {\n",
       "    flex-direction: row;\n",
       "}\n",
       "</style>"
      ],
      "text/plain": [
       "<IPython.core.display.HTML object>"
      ]
     },
     "execution_count": 9,
     "metadata": {},
     "output_type": "execute_result"
    }
   ],
   "source": [
    "import pandas as pd\n",
    "import numpy as np\n",
    "from IPython.display import display, HTML\n",
    "\n",
    "CSS = \"\"\"\n",
    ".output {\n",
    "    flex-direction: row;\n",
    "}\n",
    "\"\"\"\n",
    "\n",
    "HTML('<style>{}</style>'.format(CSS))"
   ]
  },
  {
   "cell_type": "code",
   "execution_count": 10,
   "metadata": {},
   "outputs": [
    {
     "data": {
      "text/html": [
       "<div>\n",
       "<style scoped>\n",
       "    .dataframe tbody tr th:only-of-type {\n",
       "        vertical-align: middle;\n",
       "    }\n",
       "\n",
       "    .dataframe tbody tr th {\n",
       "        vertical-align: top;\n",
       "    }\n",
       "\n",
       "    .dataframe thead th {\n",
       "        text-align: right;\n",
       "    }\n",
       "</style>\n",
       "<table border=\"1\" class=\"dataframe\">\n",
       "  <thead>\n",
       "    <tr style=\"text-align: right;\">\n",
       "      <th></th>\n",
       "      <th>pagerank-name</th>\n",
       "      <th>prob</th>\n",
       "    </tr>\n",
       "  </thead>\n",
       "  <tbody>\n",
       "    <tr>\n",
       "      <th>226</th>\n",
       "      <td>گشتاسپ</td>\n",
       "      <td>0.021102</td>\n",
       "    </tr>\n",
       "    <tr>\n",
       "      <th>192</th>\n",
       "      <td>جمشید</td>\n",
       "      <td>0.017096</td>\n",
       "    </tr>\n",
       "    <tr>\n",
       "      <th>161</th>\n",
       "      <td>سرو</td>\n",
       "      <td>0.013460</td>\n",
       "    </tr>\n",
       "    <tr>\n",
       "      <th>86</th>\n",
       "      <td>شهریار</td>\n",
       "      <td>0.012620</td>\n",
       "    </tr>\n",
       "    <tr>\n",
       "      <th>167</th>\n",
       "      <td>بید</td>\n",
       "      <td>0.012401</td>\n",
       "    </tr>\n",
       "    <tr>\n",
       "      <th>156</th>\n",
       "      <td>بهمن</td>\n",
       "      <td>0.012149</td>\n",
       "    </tr>\n",
       "    <tr>\n",
       "      <th>278</th>\n",
       "      <td>خسرو</td>\n",
       "      <td>0.011970</td>\n",
       "    </tr>\n",
       "    <tr>\n",
       "      <th>344</th>\n",
       "      <td>کیخسرو</td>\n",
       "      <td>0.011970</td>\n",
       "    </tr>\n",
       "    <tr>\n",
       "      <th>233</th>\n",
       "      <td>پیروز</td>\n",
       "      <td>0.011481</td>\n",
       "    </tr>\n",
       "    <tr>\n",
       "      <th>255</th>\n",
       "      <td>فریدون</td>\n",
       "      <td>0.011400</td>\n",
       "    </tr>\n",
       "  </tbody>\n",
       "</table>\n",
       "</div>"
      ],
      "text/plain": [
       "    pagerank-name      prob\n",
       "226        گشتاسپ  0.021102\n",
       "192         جمشید  0.017096\n",
       "161          سرو   0.013460\n",
       "86         شهریار  0.012620\n",
       "167           بید  0.012401\n",
       "156          بهمن  0.012149\n",
       "278          خسرو  0.011970\n",
       "344        کیخسرو  0.011970\n",
       "233         پیروز  0.011481\n",
       "255        فریدون  0.011400"
      ]
     },
     "metadata": {},
     "output_type": "display_data"
    },
    {
     "data": {
      "text/html": [
       "<div>\n",
       "<style scoped>\n",
       "    .dataframe tbody tr th:only-of-type {\n",
       "        vertical-align: middle;\n",
       "    }\n",
       "\n",
       "    .dataframe tbody tr th {\n",
       "        vertical-align: top;\n",
       "    }\n",
       "\n",
       "    .dataframe thead th {\n",
       "        text-align: right;\n",
       "    }\n",
       "</style>\n",
       "<table border=\"1\" class=\"dataframe\">\n",
       "  <thead>\n",
       "    <tr style=\"text-align: right;\">\n",
       "      <th></th>\n",
       "      <th>hits-name</th>\n",
       "      <th>hubs-prob</th>\n",
       "      <th>authorities-prob</th>\n",
       "    </tr>\n",
       "  </thead>\n",
       "  <tbody>\n",
       "    <tr>\n",
       "      <th>226</th>\n",
       "      <td>گشتاسپ</td>\n",
       "      <td>0.010921</td>\n",
       "      <td>0.010921</td>\n",
       "    </tr>\n",
       "    <tr>\n",
       "      <th>192</th>\n",
       "      <td>جمشید</td>\n",
       "      <td>0.010660</td>\n",
       "      <td>0.010660</td>\n",
       "    </tr>\n",
       "    <tr>\n",
       "      <th>161</th>\n",
       "      <td>سرو</td>\n",
       "      <td>0.009982</td>\n",
       "      <td>0.009982</td>\n",
       "    </tr>\n",
       "    <tr>\n",
       "      <th>344</th>\n",
       "      <td>کیخسرو</td>\n",
       "      <td>0.009501</td>\n",
       "      <td>0.009501</td>\n",
       "    </tr>\n",
       "    <tr>\n",
       "      <th>278</th>\n",
       "      <td>خسرو</td>\n",
       "      <td>0.009501</td>\n",
       "      <td>0.009501</td>\n",
       "    </tr>\n",
       "    <tr>\n",
       "      <th>86</th>\n",
       "      <td>شهریار</td>\n",
       "      <td>0.009468</td>\n",
       "      <td>0.009468</td>\n",
       "    </tr>\n",
       "    <tr>\n",
       "      <th>156</th>\n",
       "      <td>بهمن</td>\n",
       "      <td>0.009457</td>\n",
       "      <td>0.009457</td>\n",
       "    </tr>\n",
       "    <tr>\n",
       "      <th>167</th>\n",
       "      <td>بید</td>\n",
       "      <td>0.009436</td>\n",
       "      <td>0.009436</td>\n",
       "    </tr>\n",
       "    <tr>\n",
       "      <th>233</th>\n",
       "      <td>پیروز</td>\n",
       "      <td>0.009278</td>\n",
       "      <td>0.009278</td>\n",
       "    </tr>\n",
       "    <tr>\n",
       "      <th>204</th>\n",
       "      <td>دارا</td>\n",
       "      <td>0.009176</td>\n",
       "      <td>0.009176</td>\n",
       "    </tr>\n",
       "  </tbody>\n",
       "</table>\n",
       "</div>"
      ],
      "text/plain": [
       "    hits-name  hubs-prob  authorities-prob\n",
       "226    گشتاسپ   0.010921          0.010921\n",
       "192     جمشید   0.010660          0.010660\n",
       "161      سرو    0.009982          0.009982\n",
       "344    کیخسرو   0.009501          0.009501\n",
       "278      خسرو   0.009501          0.009501\n",
       "86     شهریار   0.009468          0.009468\n",
       "156      بهمن   0.009457          0.009457\n",
       "167       بید   0.009436          0.009436\n",
       "233     پیروز   0.009278          0.009278\n",
       "204      دارا   0.009176          0.009176"
      ]
     },
     "metadata": {},
     "output_type": "display_data"
    }
   ],
   "source": [
    "display(pranks.sort_values('prob', ascending=False).head(10))\n",
    "display(hranks.sort_values('hubs-prob', ascending=False).head(10))"
   ]
  },
  {
   "cell_type": "markdown",
   "metadata": {},
   "source": [
    "## Shahnameh Cities"
   ]
  },
  {
   "cell_type": "code",
   "execution_count": 11,
   "metadata": {},
   "outputs": [],
   "source": [
    "city = set(normalizer.normalize(regex) for regex in \n",
    "             pd.read_csv('../datasets/shahnameh_cities.csv')['city'])\n",
    "\n",
    "cities = np.array(list(city))"
   ]
  },
  {
   "cell_type": "code",
   "execution_count": 12,
   "metadata": {},
   "outputs": [
    {
     "data": {
      "application/vnd.jupyter.widget-view+json": {
       "model_id": "a47b8c9d266f48769f1cbaba5c841828",
       "version_major": 2,
       "version_minor": 0
      },
      "text/plain": [
       "  0%|          | 0/100 [00:00<?, ?it/s]"
      ]
     },
     "metadata": {},
     "output_type": "display_data"
    }
   ],
   "source": [
    "city_placement = np.zeros((len(cities), len(poems)), dtype=bool)\n",
    "city_regex = [re.compile(cit) for cit in cities]\n",
    "\n",
    "for row, rgx in enumerate(tqdm(city_regex)):\n",
    "    for col, poem in enumerate(poems):\n",
    "        city_placement[row, col] = bool(rgx.search(poem))"
   ]
  },
  {
   "cell_type": "code",
   "execution_count": 13,
   "metadata": {},
   "outputs": [],
   "source": [
    "threshold = 1\n",
    "\n",
    "counts = np.sum(city_placement, axis=1)\n",
    "\n",
    "cities, city_placement = \\\n",
    "    cities[counts >= 1], city_placement[counts >= 1]\n",
    "\n",
    "id2cities = dict(enumerate(cities))"
   ]
  },
  {
   "cell_type": "code",
   "execution_count": 14,
   "metadata": {},
   "outputs": [],
   "source": [
    "window_size = 5"
   ]
  },
  {
   "cell_type": "code",
   "execution_count": 15,
   "metadata": {},
   "outputs": [],
   "source": [
    "padding = window_size - city_placement.shape[1] % window_size\n",
    "\n",
    "city_sh = city_placement.shape[0]\n",
    "poem_sh = city_placement.shape[1]\n",
    "\n",
    "city_placement = np.pad(\n",
    "    city_placement, pad_width=((0, 0), (0, padding))).reshape(city_sh, -1, window_size)\n",
    "\n",
    "city_placement = np.any(city_placement, axis=2).astype(int)"
   ]
  },
  {
   "cell_type": "code",
   "execution_count": 16,
   "metadata": {},
   "outputs": [],
   "source": [
    "adjacency = np.dot(city_placement, city_placement.T).astype(bool).astype(int)"
   ]
  },
  {
   "cell_type": "markdown",
   "metadata": {},
   "source": [
    "<hr>"
   ]
  },
  {
   "cell_type": "code",
   "execution_count": 17,
   "metadata": {},
   "outputs": [],
   "source": [
    "graph = nx.from_numpy_matrix(adjacency)\n",
    "\n",
    "pagerank = nx.pagerank(graph, alpha=0.9)\n",
    "\n",
    "pranks = pd.DataFrame([\n",
    "    {'pagerank-name': id2cities[k].split('|')[0], 'prob': v} for k, v in pagerank.items()\n",
    "])\n",
    "\n",
    "hubs, authorities = nx.hits(graph, max_iter=1e3)\n",
    "\n",
    "hranks = pd.DataFrame([\n",
    "    {'hits-name': id2cities[kh].split('|')[0], 'hubs-prob': vh, 'authorities-prob': va} \n",
    "    for (kh, vh), (ka, va) in zip(hubs.items(), authorities.items())\n",
    "])"
   ]
  },
  {
   "cell_type": "code",
   "execution_count": 18,
   "metadata": {},
   "outputs": [
    {
     "data": {
      "text/html": [
       "<style>\n",
       ".output {\n",
       "    flex-direction: row;\n",
       "}\n",
       "</style>"
      ],
      "text/plain": [
       "<IPython.core.display.HTML object>"
      ]
     },
     "execution_count": 18,
     "metadata": {},
     "output_type": "execute_result"
    }
   ],
   "source": [
    "CSS = \"\"\"\n",
    ".output {\n",
    "    flex-direction: row;\n",
    "}\n",
    "\"\"\"\n",
    "\n",
    "HTML('<style>{}</style>'.format(CSS))"
   ]
  },
  {
   "cell_type": "code",
   "execution_count": 19,
   "metadata": {},
   "outputs": [
    {
     "data": {
      "text/html": [
       "<div>\n",
       "<style scoped>\n",
       "    .dataframe tbody tr th:only-of-type {\n",
       "        vertical-align: middle;\n",
       "    }\n",
       "\n",
       "    .dataframe tbody tr th {\n",
       "        vertical-align: top;\n",
       "    }\n",
       "\n",
       "    .dataframe thead th {\n",
       "        text-align: right;\n",
       "    }\n",
       "</style>\n",
       "<table border=\"1\" class=\"dataframe\">\n",
       "  <thead>\n",
       "    <tr style=\"text-align: right;\">\n",
       "      <th></th>\n",
       "      <th>pagerank-name</th>\n",
       "      <th>prob</th>\n",
       "    </tr>\n",
       "  </thead>\n",
       "  <tbody>\n",
       "    <tr>\n",
       "      <th>8</th>\n",
       "      <td>ری</td>\n",
       "      <td>0.069718</td>\n",
       "    </tr>\n",
       "    <tr>\n",
       "      <th>39</th>\n",
       "      <td>بست</td>\n",
       "      <td>0.042241</td>\n",
       "    </tr>\n",
       "    <tr>\n",
       "      <th>58</th>\n",
       "      <td>شیر</td>\n",
       "      <td>0.037177</td>\n",
       "    </tr>\n",
       "    <tr>\n",
       "      <th>56</th>\n",
       "      <td>مای</td>\n",
       "      <td>0.037044</td>\n",
       "    </tr>\n",
       "    <tr>\n",
       "      <th>61</th>\n",
       "      <td>روم</td>\n",
       "      <td>0.033543</td>\n",
       "    </tr>\n",
       "    <tr>\n",
       "      <th>24</th>\n",
       "      <td>هند</td>\n",
       "      <td>0.032881</td>\n",
       "    </tr>\n",
       "    <tr>\n",
       "      <th>35</th>\n",
       "      <td>ختن</td>\n",
       "      <td>0.031578</td>\n",
       "    </tr>\n",
       "    <tr>\n",
       "      <th>14</th>\n",
       "      <td>چین</td>\n",
       "      <td>0.031182</td>\n",
       "    </tr>\n",
       "    <tr>\n",
       "      <th>10</th>\n",
       "      <td>پارس</td>\n",
       "      <td>0.028642</td>\n",
       "    </tr>\n",
       "    <tr>\n",
       "      <th>43</th>\n",
       "      <td>کابل</td>\n",
       "      <td>0.023700</td>\n",
       "    </tr>\n",
       "  </tbody>\n",
       "</table>\n",
       "</div>"
      ],
      "text/plain": [
       "   pagerank-name      prob\n",
       "8             ری  0.069718\n",
       "39           بست  0.042241\n",
       "58           شیر  0.037177\n",
       "56           مای  0.037044\n",
       "61           روم  0.033543\n",
       "24           هند  0.032881\n",
       "35           ختن  0.031578\n",
       "14           چین  0.031182\n",
       "10          پارس  0.028642\n",
       "43          کابل  0.023700"
      ]
     },
     "metadata": {},
     "output_type": "display_data"
    },
    {
     "data": {
      "text/html": [
       "<div>\n",
       "<style scoped>\n",
       "    .dataframe tbody tr th:only-of-type {\n",
       "        vertical-align: middle;\n",
       "    }\n",
       "\n",
       "    .dataframe tbody tr th {\n",
       "        vertical-align: top;\n",
       "    }\n",
       "\n",
       "    .dataframe thead th {\n",
       "        text-align: right;\n",
       "    }\n",
       "</style>\n",
       "<table border=\"1\" class=\"dataframe\">\n",
       "  <thead>\n",
       "    <tr style=\"text-align: right;\">\n",
       "      <th></th>\n",
       "      <th>hits-name</th>\n",
       "      <th>hubs-prob</th>\n",
       "      <th>authorities-prob</th>\n",
       "    </tr>\n",
       "  </thead>\n",
       "  <tbody>\n",
       "    <tr>\n",
       "      <th>8</th>\n",
       "      <td>ری</td>\n",
       "      <td>0.043346</td>\n",
       "      <td>0.043346</td>\n",
       "    </tr>\n",
       "    <tr>\n",
       "      <th>39</th>\n",
       "      <td>بست</td>\n",
       "      <td>0.036755</td>\n",
       "      <td>0.036755</td>\n",
       "    </tr>\n",
       "    <tr>\n",
       "      <th>56</th>\n",
       "      <td>مای</td>\n",
       "      <td>0.036535</td>\n",
       "      <td>0.036535</td>\n",
       "    </tr>\n",
       "    <tr>\n",
       "      <th>58</th>\n",
       "      <td>شیر</td>\n",
       "      <td>0.036496</td>\n",
       "      <td>0.036496</td>\n",
       "    </tr>\n",
       "    <tr>\n",
       "      <th>14</th>\n",
       "      <td>چین</td>\n",
       "      <td>0.034113</td>\n",
       "      <td>0.034113</td>\n",
       "    </tr>\n",
       "    <tr>\n",
       "      <th>61</th>\n",
       "      <td>روم</td>\n",
       "      <td>0.034089</td>\n",
       "      <td>0.034089</td>\n",
       "    </tr>\n",
       "    <tr>\n",
       "      <th>35</th>\n",
       "      <td>ختن</td>\n",
       "      <td>0.033619</td>\n",
       "      <td>0.033619</td>\n",
       "    </tr>\n",
       "    <tr>\n",
       "      <th>24</th>\n",
       "      <td>هند</td>\n",
       "      <td>0.032741</td>\n",
       "      <td>0.032741</td>\n",
       "    </tr>\n",
       "    <tr>\n",
       "      <th>10</th>\n",
       "      <td>پارس</td>\n",
       "      <td>0.029653</td>\n",
       "      <td>0.029653</td>\n",
       "    </tr>\n",
       "    <tr>\n",
       "      <th>22</th>\n",
       "      <td>مرغ</td>\n",
       "      <td>0.027771</td>\n",
       "      <td>0.027771</td>\n",
       "    </tr>\n",
       "  </tbody>\n",
       "</table>\n",
       "</div>"
      ],
      "text/plain": [
       "   hits-name  hubs-prob  authorities-prob\n",
       "8         ری   0.043346          0.043346\n",
       "39       بست   0.036755          0.036755\n",
       "56       مای   0.036535          0.036535\n",
       "58       شیر   0.036496          0.036496\n",
       "14       چین   0.034113          0.034113\n",
       "61       روم   0.034089          0.034089\n",
       "35       ختن   0.033619          0.033619\n",
       "24       هند   0.032741          0.032741\n",
       "10      پارس   0.029653          0.029653\n",
       "22       مرغ   0.027771          0.027771"
      ]
     },
     "metadata": {},
     "output_type": "display_data"
    }
   ],
   "source": [
    "display(pranks.sort_values('prob', ascending=False).head(10))\n",
    "display(hranks.sort_values('hubs-prob', ascending=False).head(10))"
   ]
  },
  {
   "cell_type": "code",
   "execution_count": null,
   "metadata": {},
   "outputs": [],
   "source": []
  }
 ],
 "metadata": {
  "kernelspec": {
   "display_name": "dp",
   "language": "python",
   "name": "dp"
  },
  "language_info": {
   "codemirror_mode": {
    "name": "ipython",
    "version": 3
   },
   "file_extension": ".py",
   "mimetype": "text/x-python",
   "name": "python",
   "nbconvert_exporter": "python",
   "pygments_lexer": "ipython3",
   "version": "3.8.10"
  }
 },
 "nbformat": 4,
 "nbformat_minor": 4
}
