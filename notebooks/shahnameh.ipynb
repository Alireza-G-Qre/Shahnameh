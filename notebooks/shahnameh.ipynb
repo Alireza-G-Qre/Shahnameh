{
 "cells": [
  {
   "cell_type": "code",
   "execution_count": 1,
   "metadata": {},
   "outputs": [],
   "source": [
    "import io\n",
    "\n",
    "poems = list(line[1:-1] for line in \n",
    "             io.open('../datasets/Shahnameh-Poems.txt', mode=\"r\", encoding=\"utf-8\").readlines())\n",
    "\n",
    "import pandas as pd\n",
    "import numpy as np\n",
    "import hazm\n",
    "\n",
    "poems = np.array(poems)\n",
    "poems = np.apply_along_axis(' '.join, 1, poems.reshape(-1, 2))\n",
    "\n",
    "df = pd.DataFrame(poems, columns=['poems'])\n",
    "\n",
    "normalizer = hazm.Normalizer(token_based=True)\n",
    "\n",
    "df['normal'] = df.poems.apply(normalizer.normalize)"
   ]
  },
  {
   "cell_type": "code",
   "execution_count": null,
   "metadata": {},
   "outputs": [],
   "source": []
  },
  {
   "cell_type": "code",
   "execution_count": 2,
   "metadata": {},
   "outputs": [],
   "source": [
    "from sklearn.feature_extraction.text import TfidfTransformer\n",
    "from sklearn.feature_extraction.text import CountVectorizer\n",
    "from sklearn.pipeline import Pipeline\n",
    "\n",
    "pipe = Pipeline([('count', CountVectorizer(analyzer='word', ngram_range=(1, 1), max_features=40_000)),\n",
    "                 ('tfidf', TfidfTransformer(sublinear_tf=True))]).fit(df.normal)\n",
    "\n",
    "tfidf_vec = pipe.transform(df.normal).toarray()\n",
    "count_vec = pipe['count'].transform(df.normal).toarray()"
   ]
  },
  {
   "cell_type": "code",
   "execution_count": null,
   "metadata": {},
   "outputs": [],
   "source": []
  },
  {
   "cell_type": "code",
   "execution_count": 3,
   "metadata": {},
   "outputs": [],
   "source": [
    "def get_similars_by_cosine_distance(poem, n=10):\n",
    "    vector = pipe.transform([poem]).toarray().squeeze()\n",
    "    dist = 1 - tfidf_vec.dot(vector) / (np.linalg.norm(tfidf_vec) * np.linalg.norm(vector) + 1)    \n",
    "    indx = dist.argsort()[:n]\n",
    "    return list(zip(df['poems'][indx], dist[indx]))"
   ]
  },
  {
   "cell_type": "code",
   "execution_count": 4,
   "metadata": {},
   "outputs": [
    {
     "data": {
      "text/plain": [
       "[('چواین نامور نامه آمد ببن ز من روی کشور شود پرسخن', 0.9955303422997667),\n",
       " ('چواین نامور نامه آید ببن زمن روی کشور شود پر سخن', 0.9968623324531146),\n",
       " ('چو آن نامهٔ قیصر آمد ببن جهاندار بشنید چندان سخن', 0.9984948139349977),\n",
       " ('چواین نامه آرند نزدیک تو پراندیشه کن رای تاریک ت', 0.9987269136180931),\n",
       " ('چواین نامه آمد بنزد گراز پر اندیشه شد کهتر دیوسا', 0.9987339556254979),\n",
       " ('چواین بشنود شاه خندان شود گشاده رخ و سیم دندان ش', 0.9988287774270274),\n",
       " ('سخنهای دستان چو آمد ببن یلان برگشادند یکسر سخن', 0.998914103926993),\n",
       " ('چواین نامه آرند نزد شما که فرخنده باد او رمزد شم', 0.9989375828660748),\n",
       " ('بیامد یکی پرسخن کفشگر چنین گفت کای شاه بیدادگر', 0.9989458990190347),\n",
       " ('سپهدار کابل بیامد ز شهر زبان پرسخن دل پر از کین ', 0.9989461654483616)]"
      ]
     },
     "execution_count": 4,
     "metadata": {},
     "output_type": "execute_result"
    }
   ],
   "source": [
    "get_similars_by_cosine_distance('چواین نامور نامه آمد ببن ز من روی کشور شود پرسخن')"
   ]
  },
  {
   "cell_type": "code",
   "execution_count": null,
   "metadata": {},
   "outputs": [],
   "source": []
  }
 ],
 "metadata": {
  "kernelspec": {
   "display_name": "dp",
   "language": "python",
   "name": "dp"
  },
  "language_info": {
   "codemirror_mode": {
    "name": "ipython",
    "version": 3
   },
   "file_extension": ".py",
   "mimetype": "text/x-python",
   "name": "python",
   "nbconvert_exporter": "python",
   "pygments_lexer": "ipython3",
   "version": "3.8.10"
  }
 },
 "nbformat": 4,
 "nbformat_minor": 5
}
